{
 "cells": [
  {
   "cell_type": "markdown",
   "id": "1953526b",
   "metadata": {},
   "source": [
    "# Anomaly Detection\n",
    "\n",
    "\n",
    "## Clustering - DBSCAN"
   ]
  },
  {
   "cell_type": "code",
   "execution_count": null,
   "id": "7160fd66",
   "metadata": {},
   "outputs": [],
   "source": [
    "pick just one of the datasets"
   ]
  }
 ],
 "metadata": {
  "kernelspec": {
   "display_name": "Python 3 (ipykernel)",
   "language": "python",
   "name": "python3"
  },
  "language_info": {
   "codemirror_mode": {
    "name": "ipython",
    "version": 3
   },
   "file_extension": ".py",
   "mimetype": "text/x-python",
   "name": "python",
   "nbconvert_exporter": "python",
   "pygments_lexer": "ipython3",
   "version": "3.9.7"
  }
 },
 "nbformat": 4,
 "nbformat_minor": 5
}
